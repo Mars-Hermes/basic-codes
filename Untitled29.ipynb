{
 "cells": [
  {
   "cell_type": "code",
   "execution_count": 8,
   "id": "b1471ab4",
   "metadata": {},
   "outputs": [
    {
     "name": "stdout",
     "output_type": "stream",
     "text": [
      "Enter your password: GAGSG887%GDF\n",
      "Sorry, include alpha and numeric and special characters in your password\n"
     ]
    }
   ],
   "source": [
    "pwd = input(\"Enter your password: \")\n",
    "\n",
    "if(pwd.isalnum() and [\"@_!#$%^&()-=+{}<>?~:\"]and not pwd.isalpha() and not pwd.isdigit() and not pwd.islower()):\n",
    "    if(len(pwd) > 8 and len(pwd) < 20):\n",
    "        print(\"Your password is okay\")\n",
    "    else:\n",
    "        print(\"Sorry, your password is not correct, you have to enter pwd, \\nthat should be more than 8 and less than 20 char\")\n",
    "else:\n",
    "    print(\"Sorry, include alpha and numeric and special characters in your password\")"
   ]
  },
  {
   "cell_type": "code",
   "execution_count": 12,
   "id": "b2137a20",
   "metadata": {},
   "outputs": [
    {
     "name": "stdout",
     "output_type": "stream",
     "text": [
      "Enter your password: WYETBXJ^%$78YTEGH\n",
      "Sorry, include alpha and numeric and special characters in your password\n"
     ]
    }
   ],
   "source": [
    "pwd = input(\"Enter your password: \")\n",
    "\n",
    "if(pwd.isalnum() and [\"@_!#$%^&()-=+{}<>?~:\"]):\n",
    "    if(len(pwd) > 8 and len(pwd) < 20):\n",
    "        print(\"Your password is okay\")\n",
    "    else:\n",
    "        print(\"Sorry, your password is not correct,\")\n",
    "else:\n",
    "    print(\"Sorry, include alpha and numeric and special characters in your password\")"
   ]
  },
  {
   "cell_type": "code",
   "execution_count": null,
   "id": "8b25273d",
   "metadata": {},
   "outputs": [],
   "source": []
  }
 ],
 "metadata": {
  "kernelspec": {
   "display_name": "Python 3 (ipykernel)",
   "language": "python",
   "name": "python3"
  },
  "language_info": {
   "codemirror_mode": {
    "name": "ipython",
    "version": 3
   },
   "file_extension": ".py",
   "mimetype": "text/x-python",
   "name": "python",
   "nbconvert_exporter": "python",
   "pygments_lexer": "ipython3",
   "version": "3.10.9"
  }
 },
 "nbformat": 4,
 "nbformat_minor": 5
}
