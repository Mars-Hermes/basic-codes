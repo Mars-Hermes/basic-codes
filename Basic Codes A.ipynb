{
 "cells": [
  {
   "cell_type": "markdown",
   "id": "12ac3801",
   "metadata": {},
   "source": [
    "Conversion from Celsius to Fahrenheit "
   ]
  },
  {
   "cell_type": "code",
   "execution_count": 12,
   "id": "e58ee1a2",
   "metadata": {},
   "outputs": [
    {
     "name": "stdout",
     "output_type": "stream",
     "text": [
      "enter a temperature in Celsius40\n",
      "40 celsius is equal to 104.0 in Fahrenheit\n"
     ]
    }
   ],
   "source": [
    "Celsius = int(input(\"enter a temperature in Celsius\"))\n",
    "Fahrenheit = (Celsius * 9/5) + 32\n",
    "print(f\"{Celsius} celsius is equal to {Fahrenheit} in Fahrenheit\")\n"
   ]
  },
  {
   "cell_type": "markdown",
   "id": "e680bd5b",
   "metadata": {},
   "source": [
    "Conversion from Kelvin to Fahrenheit"
   ]
  },
  {
   "cell_type": "code",
   "execution_count": 16,
   "id": "f7b32bf7",
   "metadata": {},
   "outputs": [
    {
     "name": "stdout",
     "output_type": "stream",
     "text": [
      "enter a temperature in Kelvin60\n",
      "60 Kelvin is equal to -351.66999999999996 in Fahrenheit\n"
     ]
    }
   ],
   "source": [
    "Kelvin = int(input(\"enter a temperature in Kelvin\"))\n",
    "Fahrenheit = (Kelvin - 273.15)* 9/5 + 32\n",
    "print(f\"{Kelvin} Kelvin is equal to {Fahrenheit} in Fahrenheit\")"
   ]
  },
  {
   "cell_type": "markdown",
   "id": "322c5ebd",
   "metadata": {},
   "source": [
    "Creating a code to request password from user, password should be alpha numeric(contains alphabets and numbers), not more than 8 characters and not less than 20."
   ]
  },
  {
   "cell_type": "code",
   "execution_count": 5,
   "id": "91f6bfa6",
   "metadata": {},
   "outputs": [
    {
     "name": "stdout",
     "output_type": "stream",
     "text": [
      "Enter your password: YOWETHEBESTMUSIC34\n",
      "Your password is okay\n"
     ]
    }
   ],
   "source": [
    "pwd = input(\"Enter your password: \")\n",
    "\n",
    "if(pwd.isalnum() and not pwd.isalpha() and not pwd.isdigit() and not pwd.islower()):\n",
    "    if(len(pwd) > 8 and len(pwd) < 20):\n",
    "        print(\"Your password is okay\")\n",
    "    else:\n",
    "        print(\"Sorry, your password is not correct, you have to enter pwd, \\nthat should be more than 8 and less than 20 char\")\n",
    "else:\n",
    "    print(\"Sorry, include alpha and numeric characters in your password\")"
   ]
  },
  {
   "cell_type": "markdown",
   "id": "1832c3cd",
   "metadata": {},
   "source": [
    "Write a code to get a list of 10 students, remove a students name and print the result."
   ]
  },
  {
   "cell_type": "code",
   "execution_count": 7,
   "id": "a85b3657",
   "metadata": {},
   "outputs": [
    {
     "name": "stdout",
     "output_type": "stream",
     "text": [
      "Enter your name:ALVIN\n",
      "Enter your name:EMMANUEL\n",
      "Enter your name:GIFT\n",
      "Enter your name:DESTINY\n",
      "Enter your name:MARKSON\n",
      "Enter your name:MARS\n",
      "Enter your name:HERMES\n",
      "Enter your name:EDIDIONG\n",
      "Enter your name:ANDREA\n",
      "Enter your name:TREE\n",
      "Student list['ALVIN', 'EMMANUEL', 'GIFT', 'DESTINY', 'MARKSON', 'MARS', 'HERMES', 'EDIDIONG', 'ANDREA', 'TREE']\n",
      "Enter student name you want to delete: MARKSON\n",
      "Student list['ALVIN', 'EMMANUEL', 'GIFT', 'DESTINY', 'MARS', 'HERMES', 'EDIDIONG', 'ANDREA', 'TREE']\n"
     ]
    }
   ],
   "source": [
    "lst = []\n",
    "for i in range(10):\n",
    "    s = input(\"Enter your name:\")\n",
    "    lst.append(s)\n",
    "print(\"Student list\"+str(lst))\n",
    "std_name = input(\"Enter student name you want to delete: \")\n",
    "lst.remove(std_name)\n",
    "print(\"Student list\"+str(lst))\n"
   ]
  },
  {
   "cell_type": "markdown",
   "id": "ee10af8d",
   "metadata": {},
   "source": [
    "Creating a code to request password from user, password should be alpha numeric(contains alphabets and numbers) and contains special characters, not more than 8 characters and not less than 20."
   ]
  },
  {
   "cell_type": "code",
   "execution_count": 73,
   "id": "25ae6016",
   "metadata": {},
   "outputs": [
    {
     "name": "stdout",
     "output_type": "stream",
     "text": [
      "Enter your password: fghgghgjhg546566#$$\n",
      "Password is accepted!\n"
     ]
    }
   ],
   "source": [
    "\n",
    "password = input(\"Enter your password: \")\n",
    "\n",
    "# Check the conditions\n",
    "if any(char.isalnum() for char in password) and any(char in '!@#$%^&*()-_+=<>?/{}[]|:;.' for char in password):\n",
    "    if len(password) > 8 and len(password) < 20:\n",
    "        if \" \" not in password:\n",
    "            if not any(char.isupper() for char in password):\n",
    "                print(\"Password is accepted!\")\n",
    "            else:\n",
    "                print(\"Password should not contain uppercase letters.\")\n",
    "        else:\n",
    "            print(\"Password should not contain spaces.\")\n",
    "    else:\n",
    "        print(\"Password should be more than 8 characters and less than 20 characters.\")\n",
    "else:\n",
    "    print(\"Password should contain alphanumeric characters and special characters.\")"
   ]
  },
  {
   "cell_type": "markdown",
   "id": "f4472145",
   "metadata": {},
   "source": [
    "write a code to generate a valid email address"
   ]
  },
  {
   "cell_type": "code",
   "execution_count": 99,
   "id": "496c9ffa",
   "metadata": {},
   "outputs": [
    {
     "name": "stdout",
     "output_type": "stream",
     "text": [
      "Enter an email: hxyhjds_67@gmail.com\n",
      "Email is valid\n"
     ]
    }
   ],
   "source": [
    "import re\n",
    "email = input(\"Enter an email: \")\n",
    "\n",
    "x = re.search('^[a-z0-9]+[\\._]+[a-z0-9]+[@]\\w+[.]\\w{2,3}$', email)\n",
    "if x:\n",
    "    print(\"Email is valid\")\n",
    "else:\n",
    "    print(\"Email is invalid\")\n",
    "    "
   ]
  },
  {
   "cell_type": "markdown",
   "id": "3db1deda",
   "metadata": {},
   "source": [
    "write a code to generate a valid website address"
   ]
  },
  {
   "cell_type": "code",
   "execution_count": 143,
   "id": "41169e02",
   "metadata": {},
   "outputs": [
    {
     "name": "stdout",
     "output_type": "stream",
     "text": [
      "Enter a website: https://www.goal.com\n",
      "website is valid\n"
     ]
    }
   ],
   "source": [
    "import re\n",
    "URL = input(\"Enter a website: \")\n",
    "\n",
    "x = re.search('^[a-z0-9]+[\\:._,]+[/]+\\w+[.]\\w+[.]\\w{2,3}$', URL)\n",
    "if x:\n",
    "    print(\"website is valid\")\n",
    "else:\n",
    "    print(\"website is invalid\")"
   ]
  },
  {
   "cell_type": "code",
   "execution_count": null,
   "id": "b90710ca",
   "metadata": {},
   "outputs": [],
   "source": []
  }
 ],
 "metadata": {
  "kernelspec": {
   "display_name": "Python 3 (ipykernel)",
   "language": "python",
   "name": "python3"
  },
  "language_info": {
   "codemirror_mode": {
    "name": "ipython",
    "version": 3
   },
   "file_extension": ".py",
   "mimetype": "text/x-python",
   "name": "python",
   "nbconvert_exporter": "python",
   "pygments_lexer": "ipython3",
   "version": "3.10.9"
  }
 },
 "nbformat": 4,
 "nbformat_minor": 5
}
